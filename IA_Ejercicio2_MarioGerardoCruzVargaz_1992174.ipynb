{
  "nbformat": 4,
  "nbformat_minor": 0,
  "metadata": {
    "colab": {
      "name": "IA_Ejercicio2_MarioGerardoCruzVargaz_1992174.ipynb",
      "provenance": [],
      "authorship_tag": "ABX9TyOSNgh91DhjdHH35DTp8m1E",
      "include_colab_link": true
    },
    "kernelspec": {
      "name": "python3",
      "display_name": "Python 3"
    },
    "language_info": {
      "name": "python"
    }
  },
  "cells": [
    {
      "cell_type": "markdown",
      "metadata": {
        "id": "view-in-github",
        "colab_type": "text"
      },
      "source": [
        "<a href=\"https://colab.research.google.com/github/MarioCruz13/LasActividadesVanAqui/blob/main/IA_Ejercicio2_MarioGerardoCruzVargaz_1992174.ipynb\" target=\"_parent\"><img src=\"https://colab.research.google.com/assets/colab-badge.svg\" alt=\"Open In Colab\"/></a>"
      ]
    },
    {
      "cell_type": "markdown",
      "source": [
        "1. Escribe un programa que le pida al usuario por su nombre y que lo salude con su nombre, excepto si se llama “Ana”, “Juan”, y “Pedro”."
      ],
      "metadata": {
        "id": "B9DmIuV3UPYr"
      }
    },
    {
      "cell_type": "code",
      "execution_count": 10,
      "metadata": {
        "colab": {
          "base_uri": "https://localhost:8080/"
        },
        "id": "a6m6do4fTm-N",
        "outputId": "b9fc4d1f-9b32-4d62-eead-656a97861062"
      },
      "outputs": [
        {
          "output_type": "stream",
          "name": "stdout",
          "text": [
            "Hola, ¿cual es tu nombre?\n",
            "Pepe\n",
            "Es un gusto conocerte, Pepe.\n"
          ]
        }
      ],
      "source": [
        "print(\"Hola, ¿cual es tu nombre?\")\n",
        "Nombre = input()\n",
        "if Nombre == \"Ana\":\n",
        "    print(\"\")\n",
        "elif Nombre == \"Juan\":\n",
        "    print(\"\")\n",
        "elif Nombre == \"Pedro\":\n",
        "    print(\"\")\n",
        "else:\n",
        "    print(\"Es un gusto conocerte,\" + \" \" + Nombre + \".\")"
      ]
    },
    {
      "cell_type": "markdown",
      "source": [
        "2.Escribe una función que regrese el último elemento de una lista y que revierta el orden de la lista e imprima la lista revertida.\n",
        "\n"
      ],
      "metadata": {
        "id": "kRauIqQmUVvB"
      }
    },
    {
      "cell_type": "code",
      "source": [
        "Lista = [\"0\",\"5\", \"10\", \"15\", \"20\", \"25\", \"30\", \"35\"]\n",
        "print(Lista[-1])\n",
        "for Lista in range(35,-5,-5):\n",
        "  print(Lista)"
      ],
      "metadata": {
        "colab": {
          "base_uri": "https://localhost:8080/"
        },
        "id": "edu--dI_TvsJ",
        "outputId": "a0743680-bb94-4124-ae13-4f771515ed08"
      },
      "execution_count": 8,
      "outputs": [
        {
          "output_type": "stream",
          "name": "stdout",
          "text": [
            "35\n",
            "35\n",
            "30\n",
            "25\n",
            "20\n",
            "15\n",
            "10\n",
            "5\n",
            "0\n"
          ]
        }
      ]
    },
    {
      "cell_type": "markdown",
      "source": [
        "3.Escribe una función que toma una lista de strings y los imprima línea por línea en un marco rectangular. Por ejemplo, la lista [“Hola”, “a”, “todos”, “esto”, “es”, “un”, “marco”] se imprime:"
      ],
      "metadata": {
        "id": "sceqjtYJUetq"
      }
    },
    {
      "cell_type": "code",
      "source": [
        "for Texto in '********', '*Hola  *','*a     *','*todos *','*esto  *','*es    *','*un    *','*marco *','********':\n",
        "  print(Texto)"
      ],
      "metadata": {
        "colab": {
          "base_uri": "https://localhost:8080/"
        },
        "id": "RoWeUsDtTzeZ",
        "outputId": "f13b2883-6490-41ae-ffdc-29d18ec5a7a0"
      },
      "execution_count": 5,
      "outputs": [
        {
          "output_type": "stream",
          "name": "stdout",
          "text": [
            "********\n",
            "*Hola  *\n",
            "*a     *\n",
            "*todos *\n",
            "*esto  *\n",
            "*es    *\n",
            "*un    *\n",
            "*marco *\n",
            "********\n"
          ]
        }
      ]
    }
  ]
}