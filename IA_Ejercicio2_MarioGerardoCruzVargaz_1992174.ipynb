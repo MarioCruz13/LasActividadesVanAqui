{
  "nbformat": 4,
  "nbformat_minor": 0,
  "metadata": {
    "colab": {
      "name": "IA_Ejercicio2_MarioGerardoCruzVargaz_1992174.ipynb",
      "provenance": [],
      "authorship_tag": "ABX9TyMRyOl/zNfb+lJM7gsgT22n",
      "include_colab_link": true
    },
    "kernelspec": {
      "name": "python3",
      "display_name": "Python 3"
    },
    "language_info": {
      "name": "python"
    }
  },
  "cells": [
    {
      "cell_type": "markdown",
      "metadata": {
        "id": "view-in-github",
        "colab_type": "text"
      },
      "source": [
        "<a href=\"https://colab.research.google.com/github/MarioCruz13/LasActividadesVanAqui/blob/main/IA_Ejercicio2_MarioGerardoCruzVargaz_1992174.ipynb\" target=\"_parent\"><img src=\"https://colab.research.google.com/assets/colab-badge.svg\" alt=\"Open In Colab\"/></a>"
      ]
    },
    {
      "cell_type": "markdown",
      "source": [
        "1. Escribe un programa que le pida al usuario por su nombre y que lo salude con su nombre, excepto si se llama “Ana”, “Juan”, y “Pedro”."
      ],
      "metadata": {
        "id": "B9DmIuV3UPYr"
      }
    },
    {
      "cell_type": "code",
      "execution_count": 11,
      "metadata": {
        "colab": {
          "base_uri": "https://localhost:8080/"
        },
        "id": "a6m6do4fTm-N",
        "outputId": "f0853f1a-4844-4042-e640-8bdfc9272b46"
      },
      "outputs": [
        {
          "output_type": "stream",
          "name": "stdout",
          "text": [
            "Hola, ¿cual es tu nombre?\n",
            "Pepe\n",
            "Es un gusto conocerte, Pepe.\n"
          ]
        }
      ],
      "source": [
        "# Mario Gerardo Cruz Vargaz 1992174 JN1 \n",
        "\n",
        "print(\"Hola, ¿cual es tu nombre?\")\n",
        "Nombre = input()\n",
        "if Nombre == \"Ana\":\n",
        "    print(\"\")\n",
        "elif Nombre == \"Juan\":\n",
        "    print(\"\")\n",
        "elif Nombre == \"Pedro\":\n",
        "    print(\"\")\n",
        "else:\n",
        "    print(\"Es un gusto conocerte,\" + \" \" + Nombre + \".\")"
      ]
    },
    {
      "cell_type": "markdown",
      "source": [
        "2.Escribe una función que regrese el último elemento de una lista y que revierta el orden de la lista e imprima la lista revertida.\n",
        "\n"
      ],
      "metadata": {
        "id": "kRauIqQmUVvB"
      }
    },
    {
      "cell_type": "code",
      "source": [
        "# Mario Gerardo Cruz Vargaz 1992174 JN1 \n",
        "Lista = [\"0\",\"5\", \"10\", \"15\", \"20\", \"25\", \"30\", \"35\"]\n",
        "print(Lista[-1])\n",
        "for Lista in range(35,-5,-5):\n",
        "  print(Lista)"
      ],
      "metadata": {
        "colab": {
          "base_uri": "https://localhost:8080/"
        },
        "id": "edu--dI_TvsJ",
        "outputId": "02ef0dc3-a0be-4337-d35f-0c328fd307b0"
      },
      "execution_count": 12,
      "outputs": [
        {
          "output_type": "stream",
          "name": "stdout",
          "text": [
            "35\n",
            "35\n",
            "30\n",
            "25\n",
            "20\n",
            "15\n",
            "10\n",
            "5\n",
            "0\n"
          ]
        }
      ]
    },
    {
      "cell_type": "markdown",
      "source": [
        "3.Escribe una función que toma una lista de strings y los imprima línea por línea en un marco rectangular. Por ejemplo, la lista [“Hola”, “a”, “todos”, “esto”, “es”, “un”, “marco”] se imprime:"
      ],
      "metadata": {
        "id": "sceqjtYJUetq"
      }
    },
    {
      "cell_type": "code",
      "source": [
        "# Mario Gerardo Cruz Vargaz 1992174 JN1 \n",
        "for Texto in '********', '*Hola  *','*a     *','*todos *','*esto  *','*es    *','*un    *','*marco *','********':\n",
        "  print(Texto)"
      ],
      "metadata": {
        "colab": {
          "base_uri": "https://localhost:8080/"
        },
        "id": "RoWeUsDtTzeZ",
        "outputId": "ca8754c0-37eb-42a8-9c22-199e390dbec3"
      },
      "execution_count": 13,
      "outputs": [
        {
          "output_type": "stream",
          "name": "stdout",
          "text": [
            "********\n",
            "*Hola  *\n",
            "*a     *\n",
            "*todos *\n",
            "*esto  *\n",
            "*es    *\n",
            "*un    *\n",
            "*marco *\n",
            "********\n"
          ]
        }
      ]
    }
  ]
}